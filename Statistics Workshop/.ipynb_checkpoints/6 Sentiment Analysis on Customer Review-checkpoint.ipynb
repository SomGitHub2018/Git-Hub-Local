{
 "cells": [
  {
   "cell_type": "code",
   "execution_count": 1,
   "id": "df0ea894",
   "metadata": {},
   "outputs": [],
   "source": [
    "#!pip install -U textblob\n",
    "#!pip install nltk\n"
   ]
  },
  {
   "cell_type": "markdown",
   "id": "9911bff1",
   "metadata": {},
   "source": [
    "### Step 1: Load and Inspect Data"
   ]
  },
  {
   "cell_type": "code",
   "execution_count": 2,
   "id": "64e41125",
   "metadata": {},
   "outputs": [
    {
     "name": "stdout",
     "output_type": "stream",
     "text": [
      "                                            Review  Sentiment\n",
      "0    Absolutely loved the product, will buy again!   0.875000\n",
      "1  Terrible experience, customer service was rude.  -0.650000\n",
      "2           Decent quality, but shipping was slow.  -0.066667\n",
      "3             Fantastic! Exceeded my expectations.   0.500000\n",
      "4               Not worth the price. Disappointed.  -0.450000\n"
     ]
    }
   ],
   "source": [
    "from textblob import TextBlob\n",
    "import pandas as pd\n",
    "\n",
    "# Load reviews\n",
    "df = pd.read_csv('reviews.csv')\n",
    "df['Sentiment'] = df['Review'].apply(lambda x: TextBlob(x).sentiment.polarity)\n",
    "\n",
    "print(df.head())\n",
    "\n"
   ]
  },
  {
   "cell_type": "markdown",
   "id": "b9ec3e1a",
   "metadata": {},
   "source": [
    "###  Step 2: Text Preprocessing"
   ]
  },
  {
   "cell_type": "code",
   "execution_count": 3,
   "id": "877bdf01",
   "metadata": {},
   "outputs": [
    {
     "name": "stderr",
     "output_type": "stream",
     "text": [
      "[nltk_data] Downloading package punkt to\n",
      "[nltk_data]     C:\\Users\\Somesh\\AppData\\Roaming\\nltk_data...\n",
      "[nltk_data]   Package punkt is already up-to-date!\n",
      "[nltk_data] Downloading package punkt_tab to\n",
      "[nltk_data]     C:\\Users\\Somesh\\AppData\\Roaming\\nltk_data...\n",
      "[nltk_data]   Package punkt_tab is already up-to-date!\n",
      "[nltk_data] Downloading package stopwords to\n",
      "[nltk_data]     C:\\Users\\Somesh\\AppData\\Roaming\\nltk_data...\n",
      "[nltk_data]   Package stopwords is already up-to-date!\n",
      "[nltk_data] Downloading package punkt to\n",
      "[nltk_data]     C:\\Users\\Somesh\\AppData\\Roaming\\nltk_data...\n",
      "[nltk_data]   Package punkt is already up-to-date!\n",
      "[nltk_data] Downloading package stopwords to\n",
      "[nltk_data]     C:\\Users\\Somesh\\AppData\\Roaming\\nltk_data...\n",
      "[nltk_data]   Package stopwords is already up-to-date!\n"
     ]
    }
   ],
   "source": [
    "import nltk\n",
    "nltk.download('punkt')\n",
    "nltk.download('punkt_tab')\n",
    "nltk.download('stopwords')\n",
    "\n",
    "\n",
    "from nltk.corpus import stopwords\n",
    "from nltk.tokenize import word_tokenize\n",
    "import string\n",
    "\n",
    "nltk.download('punkt')\n",
    "nltk.download('stopwords')\n",
    "\n",
    "stop_words = set(stopwords.words('english'))\n",
    "\n",
    "def preprocess(text):\n",
    "    tokens = word_tokenize(text.lower())\n",
    "    tokens = [word for word in tokens if word.isalpha() and word not in stop_words]\n",
    "    return ' '.join(tokens)\n",
    "\n",
    "df['Cleaned_Review'] = df['Review'].apply(preprocess)"
   ]
  },
  {
   "cell_type": "markdown",
   "id": "cf748f76",
   "metadata": {},
   "source": [
    "###  Step 3: Sentiment Scorin"
   ]
  },
  {
   "cell_type": "code",
   "execution_count": 4,
   "id": "6319fbf2",
   "metadata": {},
   "outputs": [
    {
     "name": "stdout",
     "output_type": "stream",
     "text": [
      "                                            Review Sentiment_Label\n",
      "0    Absolutely loved the product, will buy again!        Positive\n",
      "1  Terrible experience, customer service was rude.        Negative\n",
      "2           Decent quality, but shipping was slow.        Negative\n",
      "3             Fantastic! Exceeded my expectations.        Positive\n",
      "4               Not worth the price. Disappointed.        Negative\n"
     ]
    }
   ],
   "source": [
    "from textblob import TextBlob\n",
    "\n",
    "df['Sentiment_Score'] = df['Cleaned_Review'].apply(lambda x: TextBlob(x).sentiment.polarity)\n",
    "df['Sentiment_Label'] = df['Sentiment_Score'].apply(lambda x: 'Positive' if x > 0 else 'Negative')\n",
    "print(df[['Review', 'Sentiment_Label']].head())"
   ]
  },
  {
   "cell_type": "markdown",
   "id": "5243315d",
   "metadata": {},
   "source": [
    " ### Step 4: Word Frequency Analysis"
   ]
  },
  {
   "cell_type": "code",
   "execution_count": 5,
   "id": "37327b43",
   "metadata": {},
   "outputs": [
    {
     "data": {
      "image/png": "[encoded data removed]",
      "text/plain": [
       "<Figure size 432x288 with 1 Axes>"
      ]
     },
     "metadata": {
      "needs_background": "light"
     },
     "output_type": "display_data"
    }
   ],
   "source": [
    "from collections import Counter\n",
    "import matplotlib.pyplot as plt\n",
    "\n",
    "# Combine all cleaned reviews\n",
    "all_words = ' '.join(df['Cleaned_Review']).split()\n",
    "word_freq = Counter(all_words)\n",
    "\n",
    "# Top 10 frequent words\n",
    "common_words = word_freq.most_common(10)\n",
    "words, counts = zip(*common_words)\n",
    "\n",
    "plt.bar(words, counts)\n",
    "plt.title('Top 10 Frequent Words in Reviews')\n",
    "plt.xticks(rotation=45)\n",
    "plt.ylabel('Frequency')\n",
    "plt.show()"
   ]
  },
  {
   "cell_type": "code",
   "execution_count": 6,
   "id": "bdced3df",
   "metadata": {},
   "outputs": [
    {
     "name": "stdout",
     "output_type": "stream",
     "text": [
      "                                            Review  Sentiment  \\\n",
      "0    Absolutely loved the product, will buy again!   0.875000   \n",
      "1  Terrible experience, customer service was rude.  -0.650000   \n",
      "2           Decent quality, but shipping was slow.  -0.066667   \n",
      "3             Fantastic! Exceeded my expectations.   0.500000   \n",
      "4               Not worth the price. Disappointed.  -0.450000   \n",
      "\n",
      "                              Cleaned_Review  Sentiment_Score Sentiment_Label  \n",
      "0               absolutely loved product buy         0.700000        Positive  \n",
      "1  terrible experience customer service rude        -0.650000        Negative  \n",
      "2               decent quality shipping slow        -0.066667        Negative  \n",
      "3            fantastic exceeded expectations         0.400000        Positive  \n",
      "4                   worth price disappointed        -0.225000        Negative  \n"
     ]
    }
   ],
   "source": [
    "print(df)"
   ]
  },
  {
   "cell_type": "markdown",
   "id": "8de07bf9",
   "metadata": {},
   "source": [
    "### Step 5: Topic Modeling with LDA"
   ]
  },
  {
   "cell_type": "code",
   "execution_count": 9,
   "id": "1b94434f",
   "metadata": {},
   "outputs": [
    {
     "name": "stdout",
     "output_type": "stream",
     "text": [
      "Number of documents: 5\n",
      "Vocabulary size: 19\n"
     ]
    }
   ],
   "source": [
    "from sklearn.feature_extraction.text import CountVectorizer\n",
    "from sklearn.decomposition import LatentDirichletAllocation\n",
    "\n",
    "# Vectorize text\n",
    "vectorizer = CountVectorizer(max_df=0.95, min_df=1, stop_words='english')\n",
    "X = vectorizer.fit_transform(df['Cleaned_Review'])\n",
    "\n",
    "print(\"Number of documents:\", len(df))\n",
    "print(\"Vocabulary size:\", len(vectorizer.get_feature_names_out()))\n"
   ]
  },
  {
   "cell_type": "code",
   "execution_count": 10,
   "id": "f5ea081e",
   "metadata": {},
   "outputs": [
    {
     "name": "stdout",
     "output_type": "stream",
     "text": [
      "\n",
      "Topic 1:\n",
      "['price', 'disappointed', 'worth', 'fantastic', 'exceeded', 'expectations', 'quality', 'decent', 'shipping', 'slow']\n",
      "\n",
      "Topic 2:\n",
      "['worth', 'disappointed', 'price', 'exceeded', 'expectations', 'fantastic', 'absolutely', 'buy', 'product', 'loved']\n",
      "\n",
      "Topic 3:\n",
      "['exceeded', 'expectations', 'price', 'disappointed', 'worth', 'experience', 'terrible', 'rude', 'service', 'customer']\n"
     ]
    }
   ],
   "source": [
    "# Apply LDA\n",
    "lda = LatentDirichletAllocation(n_components=3, random_state=42)\n",
    "lda.fit(X)\n",
    "\n",
    "# Display top words per topic\n",
    "words = vectorizer.get_feature_names_out()\n",
    "for idx, topic in enumerate(lda.components_):\n",
    "    print(f\"\\nTopic {idx+1}:\")\n",
    "    print([words[i] for i in topic.argsort()[-10:]])"
   ]
  },
  {
   "cell_type": "code",
   "execution_count": null,
   "id": "08b5e8bc",
   "metadata": {},
   "outputs": [],
   "source": []
  }
 ],
 "metadata": {
  "kernelspec": {
   "display_name": "Python 3 (ipykernel)",
   "language": "python",
   "name": "python3"
  },
  "language_info": {
   "codemirror_mode": {
    "name": "ipython",
    "version": 3
   },
   "file_extension": ".py",
   "mimetype": "text/x-python",
   "name": "python",
   "nbconvert_exporter": "python",
   "pygments_lexer": "ipython3",
   "version": "3.9.12"
  }
 },
 "nbformat": 4,
 "nbformat_minor": 5
}
