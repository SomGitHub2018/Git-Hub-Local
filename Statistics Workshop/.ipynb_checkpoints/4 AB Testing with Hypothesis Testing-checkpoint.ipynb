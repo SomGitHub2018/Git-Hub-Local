{
 "cells": [
  {
   "cell_type": "code",
   "execution_count": 1,
   "id": "5220a3b9",
   "metadata": {},
   "outputs": [
    {
     "name": "stdout",
     "output_type": "stream",
     "text": [
      "T-statistic: -5.00, P-value: 0.0011\n"
     ]
    }
   ],
   "source": [
    "import numpy as np\n",
    "from scipy import stats\n",
    "from scipy.stats import beta\n",
    "import matplotlib.pyplot as plt\n",
    "\n",
    "# Sample conversion rates (e.g., proportion of users who clicked a button)\n",
    "group_A = np.array([0.12, 0.15, 0.14, 0.13, 0.16])\n",
    "group_B = np.array([0.18, 0.19, 0.17, 0.20, 0.21])\n",
    "\n",
    "# Step 1: T-test for mean difference\n",
    "t_stat, p_value = stats.ttest_ind(group_A, group_B)\n",
    "print(f\"T-statistic: {t_stat:.2f}, P-value: {p_value:.4f}\")\n"
   ]
  },
  {
   "cell_type": "code",
   "execution_count": 2,
   "id": "d57aacea",
   "metadata": {},
   "outputs": [
    {
     "name": "stdout",
     "output_type": "stream",
     "text": [
      "95% Confidence Interval for Mean Difference: (0.0304, 0.0696)\n"
     ]
    }
   ],
   "source": [
    "# Step 2: Confidence interval for mean difference\n",
    "mean_diff = np.mean(group_B) - np.mean(group_A)\n",
    "se_diff = np.sqrt(np.var(group_A, ddof=1)/len(group_A) + np.var(group_B, ddof=1)/len(group_B))\n",
    "ci_low, ci_high = stats.norm.interval(0.95, loc=mean_diff, scale=se_diff)\n",
    "print(f\"95% Confidence Interval for Mean Difference: ({ci_low:.4f}, {ci_high:.4f})\")\n",
    "\n"
   ]
  },
  {
   "cell_type": "code",
   "execution_count": 3,
   "id": "d5e138b7",
   "metadata": {},
   "outputs": [
    {
     "name": "stdout",
     "output_type": "stream",
     "text": [
      "Cohen's d (Effect Size): 3.16\n"
     ]
    }
   ],
   "source": [
    "# Step 3: Effect size (Cohen's d)\n",
    "pooled_std = np.sqrt((np.std(group_A, ddof=1)**2 + np.std(group_B, ddof=1)**2) / 2)\n",
    "cohens_d = mean_diff / pooled_std\n",
    "print(f\"Cohen's d (Effect Size): {cohens_d:.2f}\")\n",
    "\n"
   ]
  },
  {
   "cell_type": "code",
   "execution_count": 4,
   "id": "fdbd8490",
   "metadata": {},
   "outputs": [
    {
     "data": {
      "image/png": "[encoded data removed]",
      "text/plain": [
       "<Figure size 432x288 with 1 Axes>"
      ]
     },
     "metadata": {
      "needs_background": "light"
     },
     "output_type": "display_data"
    }
   ],
   "source": [
    "# Optional: Visualize distributions\n",
    "plt.hist(group_A, alpha=0.6, label='Group A', bins=5)\n",
    "plt.hist(group_B, alpha=0.6, label='Group B', bins=5)\n",
    "plt.axvline(np.mean(group_A), color='blue', linestyle='--')\n",
    "plt.axvline(np.mean(group_B), color='orange', linestyle='--')\n",
    "plt.title('Conversion Rate Distribution')\n",
    "plt.xlabel('Conversion Rate')\n",
    "plt.ylabel('Frequency')\n",
    "plt.legend()\n",
    "plt.grid(True)\n",
    "plt.show()"
   ]
  },
  {
   "cell_type": "markdown",
   "id": "d6c4f514",
   "metadata": {},
   "source": [
    " #### What This Tells You\n",
    "- T-test: Whether the difference in conversion rates is statistically significant.\n",
    "    \n",
    "- Confidence Interval: The range within which the true difference likely falls.\n",
    "    \n",
    "- Cohen’s d: The magnitude of the difference—small (~0.2), medium (~0.5), or large (~0.8+).\n",
    "\n",
    "\n"
   ]
  },
  {
   "cell_type": "markdown",
   "id": "21ae2f0f",
   "metadata": {},
   "source": [
    "#### Bayesian A/B Testing in Python (Bernoulli Conversions)"
   ]
  },
  {
   "cell_type": "code",
   "execution_count": 5,
   "id": "8bf69752",
   "metadata": {},
   "outputs": [
    {
     "name": "stdout",
     "output_type": "stream",
     "text": [
      "Probability that B is better than A: 94.52%\n"
     ]
    }
   ],
   "source": [
    "# Observed conversions\n",
    "A_success, A_total = 20, 100\n",
    "B_success, B_total = 30, 100\n",
    "\n",
    "# Prior: Beta(1,1) is uniform (non-informative)\n",
    "A_alpha, A_beta = 1 + A_success, 1 + (A_total - A_success)\n",
    "B_alpha, B_beta = 1 + B_success, 1 + (B_total - B_success)\n",
    "\n",
    "# Sample from posterior distributions\n",
    "samples = 10000\n",
    "A_posterior = beta.rvs(A_alpha, A_beta, size=samples)\n",
    "B_posterior = beta.rvs(B_alpha, B_beta, size=samples)\n",
    "\n",
    "# Probability that B is better than A\n",
    "prob_B_better = np.mean(B_posterior > A_posterior)\n",
    "print(f\"Probability that B is better than A: {prob_B_better:.2%}\")\n",
    "\n"
   ]
  },
  {
   "cell_type": "code",
   "execution_count": 6,
   "id": "3c8fe4a3",
   "metadata": {},
   "outputs": [
    {
     "data": {
      "image/png": "[encoded data removed]",
      "text/plain": [
       "<Figure size 576x360 with 1 Axes>"
      ]
     },
     "metadata": {
      "needs_background": "light"
     },
     "output_type": "display_data"
    }
   ],
   "source": [
    "# Plot posterior distributions\n",
    "plt.figure(figsize=(8,5))\n",
    "plt.hist(A_posterior, bins=50, alpha=0.6, label='Group A')\n",
    "plt.hist(B_posterior, bins=50, alpha=0.6, label='Group B')\n",
    "plt.axvline(np.mean(A_posterior), color='blue', linestyle='--')\n",
    "plt.axvline(np.mean(B_posterior), color='orange', linestyle='--')\n",
    "plt.title('Posterior Distributions of Conversion Rates')\n",
    "plt.xlabel('Conversion Rate')\n",
    "plt.ylabel('Frequency')\n",
    "plt.legend()\n",
    "plt.grid(True)\n",
    "plt.show()\n"
   ]
  },
  {
   "cell_type": "markdown",
   "id": "8bfef898",
   "metadata": {},
   "source": [
    "#### What This Tells You\n",
    "- You get a probability that variant B is better than A—not just a binary decision.\n",
    "\n",
    "- You can visualize the uncertainty in conversion rates.\n",
    "\n",
    "- You can extend this to early stopping, expected loss, or decision thresholds.\n"
   ]
  },
  {
   "cell_type": "code",
   "execution_count": null,
   "id": "4b876cb0",
   "metadata": {},
   "outputs": [],
   "source": []
  }
 ],
 "metadata": {
  "kernelspec": {
   "display_name": "Python 3 (ipykernel)",
   "language": "python",
   "name": "python3"
  },
  "language_info": {
   "codemirror_mode": {
    "name": "ipython",
    "version": 3
   },
   "file_extension": ".py",
   "mimetype": "text/x-python",
   "name": "python",
   "nbconvert_exporter": "python",
   "pygments_lexer": "ipython3",
   "version": "3.9.12"
  }
 },
 "nbformat": 4,
 "nbformat_minor": 5
}
